{
 "cells": [
  {
   "cell_type": "markdown",
   "metadata": {},
   "source": [
    "How to make mixed subplots in Python with Plotly."
   ]
  },
  {
   "cell_type": "markdown",
   "metadata": {},
   "source": [
    "# Mixed Subplot"
   ]
  },
  {
   "cell_type": "code",
   "execution_count": null,
   "metadata": {},
   "outputs": [],
   "source": [
    "import plotly.graph_objects as px\n",
    "from ployly.subplots import make_subplots\n",
    "\n",
    "import pandas as pd\n",
    "\n",
    "# read in volcano database data\n",
    "df = pd.read_csv(\"https://raw.githubusercontent.com/plotly/datasets/master/volcano_db.csv\",\n",
    "            encoding=\"iso-8859-1\")\n",
    "\n",
    "# frequency of Country\n",
    "freq = df\n",
    "freq.Country."
   ]
  }
 ],
 "metadata": {
  "kernelspec": {
   "display_name": "Python 3",
   "language": "python",
   "name": "python3"
  },
  "language_info": {
   "codemirror_mode": {
    "name": "ipython",
    "version": 3
   },
   "file_extension": ".py",
   "mimetype": "text/x-python",
   "name": "python",
   "nbconvert_exporter": "python",
   "pygments_lexer": "ipython3",
   "version": "3.7.4"
  }
 },
 "nbformat": 4,
 "nbformat_minor": 2
}
